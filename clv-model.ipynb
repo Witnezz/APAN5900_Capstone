{
 "cells": [
  {
   "cell_type": "code",
   "execution_count": 1,
   "metadata": {},
   "outputs": [],
   "source": [
    "import pandas as pd\n",
    "import numpy as np"
   ]
  },
  {
   "cell_type": "code",
   "execution_count": 2,
   "metadata": {},
   "outputs": [
    {
     "data": {
      "text/html": [
       "<div>\n",
       "<style scoped>\n",
       "    .dataframe tbody tr th:only-of-type {\n",
       "        vertical-align: middle;\n",
       "    }\n",
       "\n",
       "    .dataframe tbody tr th {\n",
       "        vertical-align: top;\n",
       "    }\n",
       "\n",
       "    .dataframe thead th {\n",
       "        text-align: right;\n",
       "    }\n",
       "</style>\n",
       "<table border=\"1\" class=\"dataframe\">\n",
       "  <thead>\n",
       "    <tr style=\"text-align: right;\">\n",
       "      <th></th>\n",
       "      <th>customer_id</th>\n",
       "      <th>calendar_year</th>\n",
       "      <th>calendar_month</th>\n",
       "      <th>product_category</th>\n",
       "      <th>latest_transaction_date</th>\n",
       "      <th>num_transactions</th>\n",
       "      <th>total_spend</th>\n",
       "      <th>marriott_revenue</th>\n",
       "    </tr>\n",
       "  </thead>\n",
       "  <tbody>\n",
       "    <tr>\n",
       "      <th>0</th>\n",
       "      <td>3739303434323531</td>\n",
       "      <td>2019</td>\n",
       "      <td>11</td>\n",
       "      <td>Hotel Other</td>\n",
       "      <td>2019-11-05</td>\n",
       "      <td>2</td>\n",
       "      <td>40.95</td>\n",
       "      <td>1.44</td>\n",
       "    </tr>\n",
       "    <tr>\n",
       "      <th>1</th>\n",
       "      <td>3830323235373536</td>\n",
       "      <td>2014</td>\n",
       "      <td>11</td>\n",
       "      <td>Hotel Other</td>\n",
       "      <td>2014-11-28</td>\n",
       "      <td>2</td>\n",
       "      <td>0.00</td>\n",
       "      <td>0.00</td>\n",
       "    </tr>\n",
       "    <tr>\n",
       "      <th>2</th>\n",
       "      <td>3736393638313136</td>\n",
       "      <td>2019</td>\n",
       "      <td>6</td>\n",
       "      <td>Hotel F&amp;B</td>\n",
       "      <td>2019-06-18</td>\n",
       "      <td>2</td>\n",
       "      <td>152.73</td>\n",
       "      <td>6.66</td>\n",
       "    </tr>\n",
       "    <tr>\n",
       "      <th>3</th>\n",
       "      <td>3733393339353733</td>\n",
       "      <td>2010</td>\n",
       "      <td>2</td>\n",
       "      <td>Hotel Other</td>\n",
       "      <td>2010-02-08</td>\n",
       "      <td>2</td>\n",
       "      <td>103.50</td>\n",
       "      <td>4.26</td>\n",
       "    </tr>\n",
       "    <tr>\n",
       "      <th>4</th>\n",
       "      <td>3734313235383637</td>\n",
       "      <td>2007</td>\n",
       "      <td>9</td>\n",
       "      <td>Hotel Other</td>\n",
       "      <td>2007-09-29</td>\n",
       "      <td>5</td>\n",
       "      <td>261.65</td>\n",
       "      <td>10.33</td>\n",
       "    </tr>\n",
       "  </tbody>\n",
       "</table>\n",
       "</div>"
      ],
      "text/plain": [
       "        customer_id  calendar_year  calendar_month product_category  \\\n",
       "0  3739303434323531           2019              11      Hotel Other   \n",
       "1  3830323235373536           2014              11      Hotel Other   \n",
       "2  3736393638313136           2019               6        Hotel F&B   \n",
       "3  3733393339353733           2010               2      Hotel Other   \n",
       "4  3734313235383637           2007               9      Hotel Other   \n",
       "\n",
       "  latest_transaction_date  num_transactions  total_spend  marriott_revenue  \n",
       "0              2019-11-05                 2        40.95              1.44  \n",
       "1              2014-11-28                 2         0.00              0.00  \n",
       "2              2019-06-18                 2       152.73              6.66  \n",
       "3              2010-02-08                 2       103.50              4.26  \n",
       "4              2007-09-29                 5       261.65             10.33  "
      ]
     },
     "execution_count": 2,
     "metadata": {},
     "output_type": "execute_result"
    }
   ],
   "source": [
    "data = pd.read_csv(\"COLUMBIA_CAPSTONE_CLV.csv\")\n",
    "data.head()"
   ]
  },
  {
   "cell_type": "code",
   "execution_count": 3,
   "metadata": {},
   "outputs": [
    {
     "data": {
      "text/plain": [
       "'c:\\\\Users\\\\witne\\\\Desktop\\\\APAN5900_Capstone'"
      ]
     },
     "execution_count": 3,
     "metadata": {},
     "output_type": "execute_result"
    }
   ],
   "source": []
  }
 ],
 "metadata": {
  "kernelspec": {
   "display_name": "Python 3.10.7 64-bit (windows store)",
   "language": "python",
   "name": "python3"
  },
  "language_info": {
   "codemirror_mode": {
    "name": "ipython",
    "version": 3
   },
   "file_extension": ".py",
   "mimetype": "text/x-python",
   "name": "python",
   "nbconvert_exporter": "python",
   "pygments_lexer": "ipython3",
   "version": "3.10.7"
  },
  "orig_nbformat": 4,
  "vscode": {
   "interpreter": {
    "hash": "d533878438b998b041b35af06f74f0f39c41f85087e19865a071a12e089dd771"
   }
  }
 },
 "nbformat": 4,
 "nbformat_minor": 2
}
